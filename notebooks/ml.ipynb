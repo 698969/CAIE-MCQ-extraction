{
 "metadata": {
  "language_info": {
   "codemirror_mode": {
    "name": "ipython",
    "version": 3
   },
   "file_extension": ".py",
   "mimetype": "text/x-python",
   "name": "python",
   "nbconvert_exporter": "python",
   "pygments_lexer": "ipython3",
   "version": "3.9.6"
  },
  "orig_nbformat": 4,
  "kernelspec": {
   "name": "python3",
   "display_name": "Python 3.9.6 64-bit"
  },
  "interpreter": {
   "hash": "63fd5069d213b44bf678585dea6b12cceca9941eaf7f819626cde1f2670de90d"
  }
 },
 "nbformat": 4,
 "nbformat_minor": 2,
 "cells": [
  {
   "cell_type": "code",
   "execution_count": null,
   "source": [
    "import pandas as pd\r\n",
    "import numpy as np\r\n",
    "import seaborn as sns\r\n",
    "import asyncpg"
   ],
   "outputs": [],
   "metadata": {}
  },
  {
   "cell_type": "code",
   "execution_count": null,
   "source": [
    "con = await asyncpg.connect(database='quillpapers', user='postgres', password='postgres')"
   ],
   "outputs": [],
   "metadata": {}
  },
  {
   "cell_type": "code",
   "execution_count": null,
   "source": [
    "async def fetch_as_dataframe(con: asyncpg.Connection, query: str, *args):\r\n",
    "    stmt = await con.prepare(query)\r\n",
    "    columns = [a.name for a in stmt.get_attributes()]\r\n",
    "    data = await stmt.fetch(*args)\r\n",
    "    return pd.DataFrame(data, columns=columns)"
   ],
   "outputs": [],
   "metadata": {}
  },
  {
   "cell_type": "code",
   "execution_count": null,
   "source": [
    "train_data = await fetch_as_dataframe(con, \"SELECT * FROM questions WHERE subject_code = '9702' AND NOT topic = 0\")\r\n",
    "test_data = await fetch_as_dataframe(con, \"SELECT * FROM questions WHERE subject_code = '9702' AND topic = 0\")\r\n"
   ],
   "outputs": [],
   "metadata": {}
  },
  {
   "cell_type": "code",
   "execution_count": null,
   "source": [
    "test_data"
   ],
   "outputs": [],
   "metadata": {}
  },
  {
   "cell_type": "code",
   "execution_count": null,
   "source": [
    "sw = [w.rstrip() for w in open(\"physics_stopwords.txt\", 'r').readlines()]"
   ],
   "outputs": [],
   "metadata": {}
  },
  {
   "cell_type": "code",
   "execution_count": null,
   "source": [
    "def cleanup(t):\r\n",
    "    t = t.lower()\r\n",
    "    s = ''\r\n",
    "\r\n",
    "    for ch in t:\r\n",
    "        s += ch if ch.isalpha() else ' '\r\n",
    "    return s\r\n",
    "\r\n",
    "def tokenize(t):\r\n",
    "    return t.split()\r\n",
    "\r\n",
    "from sklearn.feature_extraction.text import CountVectorizer\r\n"
   ],
   "outputs": [],
   "metadata": {}
  },
  {
   "cell_type": "code",
   "execution_count": null,
   "source": [
    "cv = CountVectorizer(preprocessor=cleanup, tokenizer=tokenize, stop_words=sw)"
   ],
   "outputs": [],
   "metadata": {}
  },
  {
   "cell_type": "code",
   "execution_count": null,
   "source": [
    "X_train = cv.fit_transform(train_data[\"question_text\"])\r\n",
    "y_train = train_data[\"topic\"]\r\n",
    "X_test = cv.transform(test_data[\"question_text\"])\r\n",
    "y_test = test_data[\"topic\"]"
   ],
   "outputs": [],
   "metadata": {}
  },
  {
   "cell_type": "code",
   "execution_count": null,
   "source": [
    "from sklearn.ensemble import RandomForestClassifier\r\n",
    "\r\n",
    "model = RandomForestClassifier()\r\n",
    "model.fit(X_train, y_train)"
   ],
   "outputs": [],
   "metadata": {}
  },
  {
   "cell_type": "code",
   "execution_count": null,
   "source": [
    "pred = model.predict(X_test)"
   ],
   "outputs": [],
   "metadata": {}
  },
  {
   "cell_type": "code",
   "execution_count": null,
   "source": [
    "test_data[\"pred\"] = pred"
   ],
   "outputs": [],
   "metadata": {}
  },
  {
   "cell_type": "code",
   "execution_count": null,
   "source": [
    "querystring = \"\"\"\r\n",
    "UPDATE questions SET topic = $1 \r\n",
    "WHERE subject_code = $2 \r\n",
    "    AND exam_year = $3 \r\n",
    "    AND series = $4 \r\n",
    "    AND paper_variant = $5 \r\n",
    "    AND question_number = $6\r\n",
    "\"\"\"\r\n",
    "\r\n",
    "for row in test_data.iterrows():\r\n",
    "    row_data = row[-1]\r\n",
    "    await con.execute(querystring, row_data[\"pred\"], row_data[\"subject_code\"], row_data[\"exam_year\"], row_data[\"series\"], row_data[\"paper_variant\"], row_data[\"question_number\"])\r\n"
   ],
   "outputs": [],
   "metadata": {}
  },
  {
   "cell_type": "code",
   "execution_count": null,
   "source": [],
   "outputs": [],
   "metadata": {}
  }
 ]
}